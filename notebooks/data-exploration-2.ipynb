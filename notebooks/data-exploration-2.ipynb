{
 "cells": [
  {
   "cell_type": "code",
   "execution_count": 62,
   "metadata": {},
   "outputs": [],
   "source": [
    "from itertools import product"
   ]
  },
  {
   "cell_type": "code",
   "execution_count": 10,
   "metadata": {},
   "outputs": [],
   "source": [
    "%matplotlib inline"
   ]
  },
  {
   "cell_type": "code",
   "execution_count": 11,
   "metadata": {},
   "outputs": [],
   "source": [
    "import pandas as pd\n",
    "import geopandas as gpd"
   ]
  },
  {
   "cell_type": "code",
   "execution_count": 95,
   "metadata": {},
   "outputs": [],
   "source": [
    "def get_unique_per_source(dfs, column, names=None):\n",
    "\n",
    "    for i1, df1 in enumerate(dfs):\n",
    "        if names:\n",
    "            name1 = names[i1]\n",
    "        else:\n",
    "            name1 = str(i1)\n",
    "        print(\"{} {}\".format(name1, len(df1)))\n",
    "        for i2, df2 in enumerate(dfs):\n",
    "            if i1 == i2:\n",
    "                continue\n",
    "            if names:\n",
    "                name2 = names[i2]\n",
    "            else:\n",
    "                name2 = str(i2)\n",
    "            missing = set(df1[column]) - set(df2[column])\n",
    "            print(' - {} in {} not in {}'.format(len(missing), names[i1], names[i2]))"
   ]
  },
  {
   "cell_type": "code",
   "execution_count": 96,
   "metadata": {},
   "outputs": [
    {
     "name": "stdout",
     "output_type": "stream",
     "text": [
      "ce 5072\n",
      " - 1598 in ce not in wb\n",
      "wb 3332\n",
      " - 280 in wb not in ce\n"
     ]
    }
   ],
   "source": [
    "get_unique_per_source([ce, wb], 'water_system_id', names=['ce', 'wb'])"
   ]
  },
  {
   "cell_type": "markdown",
   "metadata": {},
   "source": [
    "# Getting locations for all water systems"
   ]
  },
  {
   "cell_type": "code",
   "execution_count": 85,
   "metadata": {},
   "outputs": [],
   "source": [
    "paths = ['/home/robert/data/ca-water-challenge/cehtp/service_areas.shp',\n",
    "#          '/home/robert/data/ca-water-challenge/cehtp/water-system-service-areas-not-current.kml'\n",
    "        ]\n",
    "\n",
    "ce = []\n",
    "for path in paths:\n",
    "    df = gpd.read_file(path)\n",
    "    ce.append(df)\n",
    "ce = pd.concat(ce)"
   ]
  },
  {
   "cell_type": "code",
   "execution_count": 86,
   "metadata": {},
   "outputs": [],
   "source": [
    "with open('/home/robert/data/ca-water-challenge/cehtp/water-system-service-areas-not-current-not-complete.geojson', 'w') as f:\n",
    "    f.write(ce.to_json())"
   ]
  },
  {
   "cell_type": "code",
   "execution_count": 88,
   "metadata": {},
   "outputs": [],
   "source": [
    "paths = ['/home/robert/data/ca-water-challenge/cehtp/water-system-service-areas-current-complete-converted.geojson',\n",
    "         '/home/robert/data/ca-water-challenge/cehtp/water-system-service-areas-not-current-complete-converted.geojson',\n",
    "         '/home/robert/data/ca-water-challenge/cehtp/water-system-service-areas-current-not-complete-converted.geojson',\n",
    "         '/home/robert/data/ca-water-challenge/cehtp/water-system-service-areas-not-current-not-complete-converted.geojson'\n",
    "        ]\n",
    "\n",
    "ce = []\n",
    "for path in paths:\n",
    "    df = gpd.read_file(path)\n",
    "    ce.append(df)\n",
    "ce = pd.concat(ce)"
   ]
  },
  {
   "cell_type": "code",
   "execution_count": 90,
   "metadata": {},
   "outputs": [],
   "source": [
    "ce.rename(columns={'pwsid': 'water_system_id'}, inplace=True)"
   ]
  },
  {
   "cell_type": "markdown",
   "metadata": {},
   "source": [
    "# Water Boards / Human Right to Water portal"
   ]
  },
  {
   "cell_type": "code",
   "execution_count": 81,
   "metadata": {},
   "outputs": [],
   "source": [
    "wb = gpd.read_file('/home/robert/data/ca-water-challenge/hr2w/EC_Summary_May2018.geojson')\n",
    "wb.rename(columns={'WATER_SYST': 'water_system_id'}, inplace=True)\n",
    "wb.water_system_id = wb.water_system_id.str.strip(' ')\n",
    "# _ = wb.plot(figsize=(5, 5))"
   ]
  },
  {
   "cell_type": "code",
   "execution_count": 58,
   "metadata": {},
   "outputs": [
    {
     "data": {
      "text/plain": [
       "0"
      ]
     },
     "execution_count": 58,
     "metadata": {},
     "output_type": "execute_result"
    }
   ],
   "source": [
    "(wb.water_system_id.str.len() != 9).sum()"
   ]
  },
  {
   "cell_type": "code",
   "execution_count": 59,
   "metadata": {},
   "outputs": [
    {
     "data": {
      "text/html": [
       "<div>\n",
       "<style scoped>\n",
       "    .dataframe tbody tr th:only-of-type {\n",
       "        vertical-align: middle;\n",
       "    }\n",
       "\n",
       "    .dataframe tbody tr th {\n",
       "        vertical-align: top;\n",
       "    }\n",
       "\n",
       "    .dataframe thead th {\n",
       "        text-align: right;\n",
       "    }\n",
       "</style>\n",
       "<table border=\"1\" class=\"dataframe\">\n",
       "  <thead>\n",
       "    <tr style=\"text-align: right;\">\n",
       "      <th></th>\n",
       "      <th>id</th>\n",
       "      <th>water_system_id</th>\n",
       "      <th>WATER_SY_1</th>\n",
       "      <th>REGULATING</th>\n",
       "      <th>COUNTY</th>\n",
       "      <th>POPULATION</th>\n",
       "      <th>CLASSIFICA</th>\n",
       "      <th>CITY_1</th>\n",
       "      <th>ZIPCODE</th>\n",
       "      <th>GIS_STATUS</th>\n",
       "      <th>DEFAULT_ME</th>\n",
       "      <th>geometry</th>\n",
       "    </tr>\n",
       "  </thead>\n",
       "  <tbody>\n",
       "    <tr>\n",
       "      <th>0</th>\n",
       "      <td>0</td>\n",
       "      <td>CA0210001</td>\n",
       "      <td>LAKE ALPINE WATER COMPANY</td>\n",
       "      <td>DISTRICT 10 - STOCKTON</td>\n",
       "      <td>ALPINE</td>\n",
       "      <td>2650</td>\n",
       "      <td>COMMUNITY</td>\n",
       "      <td>ARNOLD</td>\n",
       "      <td>95223</td>\n",
       "      <td>OUT-OF-COMPLIANCE</td>\n",
       "      <td>OUT-OF-COMPLIANCE, CLICK VIOLATION DETAILS LIN...</td>\n",
       "      <td>POINT (-120.3430402659997 38.26007179300046)</td>\n",
       "    </tr>\n",
       "    <tr>\n",
       "      <th>1</th>\n",
       "      <td>1</td>\n",
       "      <td>CA0300037</td>\n",
       "      <td>JACKSON VALLEY IRRIGATION DISTRICT</td>\n",
       "      <td>DISTRICT 10 - STOCKTON</td>\n",
       "      <td>AMADOR</td>\n",
       "      <td>2000</td>\n",
       "      <td>COMMUNITY</td>\n",
       "      <td>IONE</td>\n",
       "      <td>95640</td>\n",
       "      <td>OUT-OF-COMPLIANCE</td>\n",
       "      <td>OUT-OF-COMPLIANCE, CLICK VIOLATION DETAILS LIN...</td>\n",
       "      <td>POINT (-120.9385128979997 38.35085515100047)</td>\n",
       "    </tr>\n",
       "    <tr>\n",
       "      <th>2</th>\n",
       "      <td>2</td>\n",
       "      <td>CA0310005</td>\n",
       "      <td>PINE GROVE COMM SERV DIST</td>\n",
       "      <td>DISTRICT 10 - STOCKTON</td>\n",
       "      <td>AMADOR</td>\n",
       "      <td>846</td>\n",
       "      <td>COMMUNITY</td>\n",
       "      <td>PINE GROVE</td>\n",
       "      <td>95665</td>\n",
       "      <td>OUT-OF-COMPLIANCE</td>\n",
       "      <td>OUT-OF-COMPLIANCE, CLICK VIOLATION DETAILS LIN...</td>\n",
       "      <td>POINT (-120.6560217529997 38.40973310000049)</td>\n",
       "    </tr>\n",
       "    <tr>\n",
       "      <th>3</th>\n",
       "      <td>3</td>\n",
       "      <td>CA0310011</td>\n",
       "      <td>FIRST MACE MEADOW # 1</td>\n",
       "      <td>DISTRICT 10 - STOCKTON</td>\n",
       "      <td>AMADOR</td>\n",
       "      <td>838</td>\n",
       "      <td>COMMUNITY</td>\n",
       "      <td>PINE GROVE</td>\n",
       "      <td>95665</td>\n",
       "      <td>OUT-OF-COMPLIANCE</td>\n",
       "      <td>OUT-OF-COMPLIANCE, CLICK VIOLATION DETAILS LIN...</td>\n",
       "      <td>POINT (-120.6560217529997 38.40973310000049)</td>\n",
       "    </tr>\n",
       "    <tr>\n",
       "      <th>4</th>\n",
       "      <td>4</td>\n",
       "      <td>CA0510003</td>\n",
       "      <td>ANGELS, CITY OF</td>\n",
       "      <td>DISTRICT 10 - STOCKTON</td>\n",
       "      <td>CALAVERAS</td>\n",
       "      <td>3836</td>\n",
       "      <td>COMMUNITY</td>\n",
       "      <td>ANGELS CAMP</td>\n",
       "      <td>95222</td>\n",
       "      <td>RETURNED TO COMPLIANCE</td>\n",
       "      <td>RETURNED TO COMPLIANCE, CLICK VIOLATION DETAIL...</td>\n",
       "      <td>POINT (-120.5599795029997 38.06938044100048)</td>\n",
       "    </tr>\n",
       "  </tbody>\n",
       "</table>\n",
       "</div>"
      ],
      "text/plain": [
       "  id water_system_id                          WATER_SY_1  \\\n",
       "0  0       CA0210001           LAKE ALPINE WATER COMPANY   \n",
       "1  1       CA0300037  JACKSON VALLEY IRRIGATION DISTRICT   \n",
       "2  2       CA0310005           PINE GROVE COMM SERV DIST   \n",
       "3  3       CA0310011               FIRST MACE MEADOW # 1   \n",
       "4  4       CA0510003                     ANGELS, CITY OF   \n",
       "\n",
       "               REGULATING     COUNTY POPULATION CLASSIFICA       CITY_1  \\\n",
       "0  DISTRICT 10 - STOCKTON     ALPINE       2650  COMMUNITY       ARNOLD   \n",
       "1  DISTRICT 10 - STOCKTON     AMADOR       2000  COMMUNITY         IONE   \n",
       "2  DISTRICT 10 - STOCKTON     AMADOR        846  COMMUNITY   PINE GROVE   \n",
       "3  DISTRICT 10 - STOCKTON     AMADOR        838  COMMUNITY   PINE GROVE   \n",
       "4  DISTRICT 10 - STOCKTON  CALAVERAS       3836  COMMUNITY  ANGELS CAMP   \n",
       "\n",
       "  ZIPCODE              GIS_STATUS  \\\n",
       "0   95223       OUT-OF-COMPLIANCE   \n",
       "1   95640       OUT-OF-COMPLIANCE   \n",
       "2   95665       OUT-OF-COMPLIANCE   \n",
       "3   95665       OUT-OF-COMPLIANCE   \n",
       "4   95222  RETURNED TO COMPLIANCE   \n",
       "\n",
       "                                          DEFAULT_ME  \\\n",
       "0  OUT-OF-COMPLIANCE, CLICK VIOLATION DETAILS LIN...   \n",
       "1  OUT-OF-COMPLIANCE, CLICK VIOLATION DETAILS LIN...   \n",
       "2  OUT-OF-COMPLIANCE, CLICK VIOLATION DETAILS LIN...   \n",
       "3  OUT-OF-COMPLIANCE, CLICK VIOLATION DETAILS LIN...   \n",
       "4  RETURNED TO COMPLIANCE, CLICK VIOLATION DETAIL...   \n",
       "\n",
       "                                       geometry  \n",
       "0  POINT (-120.3430402659997 38.26007179300046)  \n",
       "1  POINT (-120.9385128979997 38.35085515100047)  \n",
       "2  POINT (-120.6560217529997 38.40973310000049)  \n",
       "3  POINT (-120.6560217529997 38.40973310000049)  \n",
       "4  POINT (-120.5599795029997 38.06938044100048)  "
      ]
     },
     "execution_count": 59,
     "metadata": {},
     "output_type": "execute_result"
    }
   ],
   "source": [
    "wb.head()"
   ]
  },
  {
   "cell_type": "code",
   "execution_count": 60,
   "metadata": {},
   "outputs": [
    {
     "data": {
      "text/plain": [
       "0"
      ]
     },
     "execution_count": 60,
     "metadata": {},
     "output_type": "execute_result"
    }
   ],
   "source": [
    "wb.water_system_id.isnull().sum()"
   ]
  },
  {
   "cell_type": "code",
   "execution_count": 61,
   "metadata": {},
   "outputs": [
    {
     "data": {
      "text/plain": [
       "3332"
      ]
     },
     "execution_count": 61,
     "metadata": {},
     "output_type": "execute_result"
    }
   ],
   "source": [
    "wb.water_system_id.nunique()"
   ]
  },
  {
   "cell_type": "markdown",
   "metadata": {},
   "source": [
    "#### 3332 water systems"
   ]
  },
  {
   "cell_type": "markdown",
   "metadata": {},
   "source": [
    "# drinking water watch"
   ]
  },
  {
   "cell_type": "code",
   "execution_count": 109,
   "metadata": {},
   "outputs": [],
   "source": [
    "dww = pd.read_csv('/home/robert/data/ca-water-challenge/dww-pws-information.csv', delimiter=',')\n",
    "dww.rename(columns={'Water System No ': 'water_system_id'}, inplace=True)\n",
    "dww.water_system_id = dww.water_system_id.str.strip(' ')"
   ]
  },
  {
   "cell_type": "code",
   "execution_count": 110,
   "metadata": {},
   "outputs": [
    {
     "data": {
      "text/plain": [
       "2"
      ]
     },
     "execution_count": 110,
     "metadata": {},
     "output_type": "execute_result"
    }
   ],
   "source": [
    "(dww.water_system_id.str.len() != 9).sum()"
   ]
  },
  {
   "cell_type": "code",
   "execution_count": 111,
   "metadata": {},
   "outputs": [
    {
     "data": {
      "text/plain": [
       "2"
      ]
     },
     "execution_count": 111,
     "metadata": {},
     "output_type": "execute_result"
    }
   ],
   "source": [
    "dww.water_system_id.isnull().sum()"
   ]
  },
  {
   "cell_type": "code",
   "execution_count": 14,
   "metadata": {},
   "outputs": [
    {
     "data": {
      "text/html": [
       "<div>\n",
       "<style scoped>\n",
       "    .dataframe tbody tr th:only-of-type {\n",
       "        vertical-align: middle;\n",
       "    }\n",
       "\n",
       "    .dataframe tbody tr th {\n",
       "        vertical-align: top;\n",
       "    }\n",
       "\n",
       "    .dataframe thead th {\n",
       "        text-align: right;\n",
       "    }\n",
       "</style>\n",
       "<table border=\"1\" class=\"dataframe\">\n",
       "  <thead>\n",
       "    <tr style=\"text-align: right;\">\n",
       "      <th></th>\n",
       "      <th>water_system_id</th>\n",
       "      <th>Water System Name</th>\n",
       "      <th>Principal County Served</th>\n",
       "      <th>Federal Water System Type -CODE</th>\n",
       "      <th>Federal Water System Type</th>\n",
       "      <th>State Water System Type -CODE</th>\n",
       "      <th>State Water System Type</th>\n",
       "      <th>Water System Status -CODE</th>\n",
       "      <th>Water System Status</th>\n",
       "      <th>Owner Type -CODE</th>\n",
       "      <th>...</th>\n",
       "      <th>Number of Residential Service Connections</th>\n",
       "      <th>Total Number of Service Connections</th>\n",
       "      <th>Fee Code</th>\n",
       "      <th>Fee Code Description</th>\n",
       "      <th>Date of Sanitary Survey visit (SNSV Visit Date)</th>\n",
       "      <th>CITY</th>\n",
       "      <th>Treatment Plant Class-CODE</th>\n",
       "      <th>Treatment Plant Class</th>\n",
       "      <th>Distribution System Class-CODE</th>\n",
       "      <th>Distribution System Class</th>\n",
       "    </tr>\n",
       "  </thead>\n",
       "  <tbody>\n",
       "    <tr>\n",
       "      <th>0</th>\n",
       "      <td>CA1900045</td>\n",
       "      <td>1000 TRAILS / SOLEDAD CANYON PRESERVE</td>\n",
       "      <td>LOS ANGELES</td>\n",
       "      <td>NC</td>\n",
       "      <td>Transient Non-Community</td>\n",
       "      <td>NC</td>\n",
       "      <td>Transient Non-Community</td>\n",
       "      <td>A</td>\n",
       "      <td>ACTIVE</td>\n",
       "      <td>P</td>\n",
       "      <td>...</td>\n",
       "      <td>NaN</td>\n",
       "      <td>182.0</td>\n",
       "      <td>N1</td>\n",
       "      <td>Transient-Noncommunity Water System</td>\n",
       "      <td>11/22/2017</td>\n",
       "      <td>NaN</td>\n",
       "      <td>NaN</td>\n",
       "      <td>NaN</td>\n",
       "      <td>D1</td>\n",
       "      <td>Distribution Operator Level 1</td>\n",
       "    </tr>\n",
       "    <tr>\n",
       "      <th>1</th>\n",
       "      <td>CA2800014</td>\n",
       "      <td>11:11</td>\n",
       "      <td>NAPA</td>\n",
       "      <td>NC</td>\n",
       "      <td>Transient Non-Community</td>\n",
       "      <td>NC</td>\n",
       "      <td>Transient Non-Community</td>\n",
       "      <td>A</td>\n",
       "      <td>ACTIVE</td>\n",
       "      <td>P</td>\n",
       "      <td>...</td>\n",
       "      <td>NaN</td>\n",
       "      <td>1.0</td>\n",
       "      <td>N1</td>\n",
       "      <td>Transient-Noncommunity Water System</td>\n",
       "      <td>6/17/2015</td>\n",
       "      <td>NAPA</td>\n",
       "      <td>NaN</td>\n",
       "      <td>NaN</td>\n",
       "      <td>NR</td>\n",
       "      <td>Not Required</td>\n",
       "    </tr>\n",
       "    <tr>\n",
       "      <th>2</th>\n",
       "      <td>CA4000725</td>\n",
       "      <td>141 SUBURBAN ROAD WATER SUPPLY</td>\n",
       "      <td>SAN LUIS OBISPO</td>\n",
       "      <td>NTNC</td>\n",
       "      <td>Non-Transient Non-Community</td>\n",
       "      <td>NTNC</td>\n",
       "      <td>Non-Transient Non-Community</td>\n",
       "      <td>A</td>\n",
       "      <td>ACTIVE</td>\n",
       "      <td>P</td>\n",
       "      <td>...</td>\n",
       "      <td>NaN</td>\n",
       "      <td>1.0</td>\n",
       "      <td>NaN</td>\n",
       "      <td>NaN</td>\n",
       "      <td>6/23/2014</td>\n",
       "      <td>SAN LUIS OBISPO</td>\n",
       "      <td>NaN</td>\n",
       "      <td>NaN</td>\n",
       "      <td>D1</td>\n",
       "      <td>Distribution Operator Level 1</td>\n",
       "    </tr>\n",
       "    <tr>\n",
       "      <th>3</th>\n",
       "      <td>CA1700725</td>\n",
       "      <td>3 BROTHERS TRAVEL PLAZA</td>\n",
       "      <td>LAKE</td>\n",
       "      <td>NC</td>\n",
       "      <td>Transient Non-Community</td>\n",
       "      <td>NC</td>\n",
       "      <td>Transient Non-Community</td>\n",
       "      <td>A</td>\n",
       "      <td>ACTIVE</td>\n",
       "      <td>P</td>\n",
       "      <td>...</td>\n",
       "      <td>NaN</td>\n",
       "      <td>2.0</td>\n",
       "      <td>N1</td>\n",
       "      <td>Transient-Noncommunity Water System</td>\n",
       "      <td>1/13/2013</td>\n",
       "      <td>UPPER LAKE</td>\n",
       "      <td>TD</td>\n",
       "      <td>Treatment or distribution operator of any grade</td>\n",
       "      <td>D1</td>\n",
       "      <td>Distribution Operator Level 1</td>\n",
       "    </tr>\n",
       "    <tr>\n",
       "      <th>4</th>\n",
       "      <td>CA0901281</td>\n",
       "      <td>30 MILESTONE TRACT #1</td>\n",
       "      <td>EL DORADO</td>\n",
       "      <td>NC</td>\n",
       "      <td>Transient Non-Community</td>\n",
       "      <td>NC</td>\n",
       "      <td>Transient Non-Community</td>\n",
       "      <td>A</td>\n",
       "      <td>ACTIVE</td>\n",
       "      <td>P</td>\n",
       "      <td>...</td>\n",
       "      <td>NaN</td>\n",
       "      <td>14.0</td>\n",
       "      <td>XS</td>\n",
       "      <td>State Small Water System</td>\n",
       "      <td>NaN</td>\n",
       "      <td>NaN</td>\n",
       "      <td>NaN</td>\n",
       "      <td>NaN</td>\n",
       "      <td>NR</td>\n",
       "      <td>Not Required</td>\n",
       "    </tr>\n",
       "  </tbody>\n",
       "</table>\n",
       "<p>5 rows × 31 columns</p>\n",
       "</div>"
      ],
      "text/plain": [
       "  water_system_id                      Water System Name  \\\n",
       "0       CA1900045  1000 TRAILS / SOLEDAD CANYON PRESERVE   \n",
       "1       CA2800014                                  11:11   \n",
       "2       CA4000725         141 SUBURBAN ROAD WATER SUPPLY   \n",
       "3       CA1700725                3 BROTHERS TRAVEL PLAZA   \n",
       "4       CA0901281                  30 MILESTONE TRACT #1   \n",
       "\n",
       "  Principal County Served Federal Water System Type -CODE  \\\n",
       "0             LOS ANGELES                              NC   \n",
       "1                    NAPA                              NC   \n",
       "2         SAN LUIS OBISPO                            NTNC   \n",
       "3                    LAKE                              NC   \n",
       "4               EL DORADO                              NC   \n",
       "\n",
       "    Federal Water System Type  State Water System Type -CODE  \\\n",
       "0      Transient Non-Community                          NC     \n",
       "1      Transient Non-Community                          NC     \n",
       "2  Non-Transient Non-Community                          NTNC   \n",
       "3      Transient Non-Community                          NC     \n",
       "4      Transient Non-Community                          NC     \n",
       "\n",
       "       State Water System Type Water System Status -CODE Water System Status  \\\n",
       "0      Transient Non-Community                         A              ACTIVE   \n",
       "1      Transient Non-Community                         A              ACTIVE   \n",
       "2  Non-Transient Non-Community                         A              ACTIVE   \n",
       "3      Transient Non-Community                         A              ACTIVE   \n",
       "4      Transient Non-Community                         A              ACTIVE   \n",
       "\n",
       "  Owner Type -CODE              ...                \\\n",
       "0                P              ...                 \n",
       "1                P              ...                 \n",
       "2                P              ...                 \n",
       "3                P              ...                 \n",
       "4                P              ...                 \n",
       "\n",
       "  Number of Residential Service Connections  \\\n",
       "0                                       NaN   \n",
       "1                                       NaN   \n",
       "2                                       NaN   \n",
       "3                                       NaN   \n",
       "4                                       NaN   \n",
       "\n",
       "  Total Number of Service Connections Fee Code  \\\n",
       "0                               182.0    N1      \n",
       "1                                 1.0    N1      \n",
       "2                                 1.0      NaN   \n",
       "3                                 2.0    N1      \n",
       "4                                14.0    XS      \n",
       "\n",
       "                  Fee Code Description  \\\n",
       "0  Transient-Noncommunity Water System   \n",
       "1  Transient-Noncommunity Water System   \n",
       "2                                  NaN   \n",
       "3  Transient-Noncommunity Water System   \n",
       "4             State Small Water System   \n",
       "\n",
       "   Date of Sanitary Survey visit (SNSV Visit Date)             CITY  \\\n",
       "0                                       11/22/2017              NaN   \n",
       "1                                        6/17/2015             NAPA   \n",
       "2                                        6/23/2014  SAN LUIS OBISPO   \n",
       "3                                        1/13/2013       UPPER LAKE   \n",
       "4                                              NaN              NaN   \n",
       "\n",
       "   Treatment Plant Class-CODE  \\\n",
       "0                         NaN   \n",
       "1                         NaN   \n",
       "2                         NaN   \n",
       "3                       TD      \n",
       "4                         NaN   \n",
       "\n",
       "                             Treatment Plant Class  \\\n",
       "0                                              NaN   \n",
       "1                                              NaN   \n",
       "2                                              NaN   \n",
       "3  Treatment or distribution operator of any grade   \n",
       "4                                              NaN   \n",
       "\n",
       "   Distribution System Class-CODE      Distribution System Class  \n",
       "0                           D1     Distribution Operator Level 1  \n",
       "1                           NR                      Not Required  \n",
       "2                           D1     Distribution Operator Level 1  \n",
       "3                           D1     Distribution Operator Level 1  \n",
       "4                           NR                      Not Required  \n",
       "\n",
       "[5 rows x 31 columns]"
      ]
     },
     "execution_count": 14,
     "metadata": {},
     "output_type": "execute_result"
    }
   ],
   "source": [
    "dww.head()"
   ]
  },
  {
   "cell_type": "code",
   "execution_count": 15,
   "metadata": {},
   "outputs": [
    {
     "data": {
      "text/plain": [
       "7887"
      ]
     },
     "execution_count": 15,
     "metadata": {},
     "output_type": "execute_result"
    }
   ],
   "source": [
    "dww.water_system_id.nunique()"
   ]
  },
  {
   "cell_type": "markdown",
   "metadata": {},
   "source": [
    "### 7887 water systems"
   ]
  },
  {
   "cell_type": "markdown",
   "metadata": {},
   "source": [
    "4561 water systems **drinking water watch** in missing from **water board**"
   ]
  },
  {
   "cell_type": "code",
   "execution_count": 25,
   "metadata": {},
   "outputs": [
    {
     "data": {
      "text/plain": [
       "4561"
      ]
     },
     "execution_count": 25,
     "metadata": {},
     "output_type": "execute_result"
    }
   ],
   "source": [
    "len(set(dww.water_system_id.dropna()) - set(wb.water_system_id.dropna()))"
   ]
  },
  {
   "cell_type": "markdown",
   "metadata": {},
   "source": [
    "6 water systems in **water board** missing from **drinking water watch**"
   ]
  },
  {
   "cell_type": "code",
   "execution_count": 28,
   "metadata": {},
   "outputs": [
    {
     "data": {
      "text/plain": [
       "6"
      ]
     },
     "execution_count": 28,
     "metadata": {},
     "output_type": "execute_result"
    }
   ],
   "source": [
    "len(set(wb.water_system_id.dropna()) - set(dww.water_system_id.dropna()))"
   ]
  },
  {
   "cell_type": "code",
   "execution_count": 27,
   "metadata": {},
   "outputs": [
    {
     "data": {
      "text/plain": [
       "7893"
      ]
     },
     "execution_count": 27,
     "metadata": {},
     "output_type": "execute_result"
    }
   ],
   "source": [
    "len(set(wb.water_system_id.dropna()).union(set(dww.water_system_id.dropna())))"
   ]
  },
  {
   "cell_type": "markdown",
   "metadata": {},
   "source": [
    "## 7893 water systems"
   ]
  },
  {
   "cell_type": "code",
   "execution_count": 92,
   "metadata": {},
   "outputs": [],
   "source": [
    "sdwis = pd.read_csv('/home/robert/data/ca-water-challenge/sdwis_pws.csv', delimiter='\\t')\n",
    "sdwis.rename(columns={'PWSID': 'water_system_id'}, inplace=True)\n",
    "sdwis.water_system_id = sdwis.water_system_id.str.strip(' ')"
   ]
  },
  {
   "cell_type": "code",
   "execution_count": 112,
   "metadata": {},
   "outputs": [
    {
     "data": {
      "text/plain": [
       "3"
      ]
     },
     "execution_count": 112,
     "metadata": {},
     "output_type": "execute_result"
    }
   ],
   "source": [
    "(sdwis.water_system_id.str.len() != 9).sum()"
   ]
  },
  {
   "cell_type": "code",
   "execution_count": 113,
   "metadata": {},
   "outputs": [
    {
     "data": {
      "text/html": [
       "<div>\n",
       "<style scoped>\n",
       "    .dataframe tbody tr th:only-of-type {\n",
       "        vertical-align: middle;\n",
       "    }\n",
       "\n",
       "    .dataframe tbody tr th {\n",
       "        vertical-align: top;\n",
       "    }\n",
       "\n",
       "    .dataframe thead th {\n",
       "        text-align: right;\n",
       "    }\n",
       "</style>\n",
       "<table border=\"1\" class=\"dataframe\">\n",
       "  <thead>\n",
       "    <tr style=\"text-align: right;\">\n",
       "      <th></th>\n",
       "      <th>water_system_id</th>\n",
       "      <th>PWS_NAME</th>\n",
       "      <th>CONTACT_NAME</th>\n",
       "      <th>TITLE</th>\n",
       "      <th>BUSINESS_PHONE</th>\n",
       "      <th>LOCATION_ADDRESS</th>\n",
       "      <th>POPULATION</th>\n",
       "      <th>TYPE</th>\n",
       "      <th>AREA</th>\n",
       "      <th>OWNERSHIP</th>\n",
       "      <th>SOURCE</th>\n",
       "      <th>CONNECTIONS</th>\n",
       "      <th>WELLS</th>\n",
       "      <th>PLANTS</th>\n",
       "      <th>INTAKES</th>\n",
       "      <th>INTERTIES</th>\n",
       "      <th>COUNTY</th>\n",
       "    </tr>\n",
       "  </thead>\n",
       "  <tbody>\n",
       "    <tr>\n",
       "      <th>2189</th>\n",
       "      <td>CA371053</td>\n",
       "      <td>DHS BORDER PATROL HWY 94 CHECKPOINT</td>\n",
       "      <td>WILLIAM DANA</td>\n",
       "      <td>HEALTH SAFE OFFICER</td>\n",
       "      <td>619-216-4049</td>\n",
       "      <td>NaN</td>\n",
       "      <td>0</td>\n",
       "      <td>Unknown</td>\n",
       "      <td>NaN</td>\n",
       "      <td>Unknown</td>\n",
       "      <td>Unknown</td>\n",
       "      <td>NaN</td>\n",
       "      <td>0</td>\n",
       "      <td>0</td>\n",
       "      <td>0</td>\n",
       "      <td>0</td>\n",
       "      <td></td>\n",
       "    </tr>\n",
       "    <tr>\n",
       "      <th>2192</th>\n",
       "      <td>CA371052</td>\n",
       "      <td>DHS BORDER PATROL I-8 CHECKPOINT</td>\n",
       "      <td>WILLIAM DANA</td>\n",
       "      <td>HEALTH SAFE OFFICER</td>\n",
       "      <td>619-216-4049</td>\n",
       "      <td>NaN</td>\n",
       "      <td>0</td>\n",
       "      <td>Unknown</td>\n",
       "      <td>NaN</td>\n",
       "      <td>Unknown</td>\n",
       "      <td>Unknown</td>\n",
       "      <td>NaN</td>\n",
       "      <td>0</td>\n",
       "      <td>0</td>\n",
       "      <td>0</td>\n",
       "      <td>0</td>\n",
       "      <td></td>\n",
       "    </tr>\n",
       "    <tr>\n",
       "      <th>5409</th>\n",
       "      <td>CA33</td>\n",
       "      <td>PARAMOUNT FARMS-FIREBAUGH</td>\n",
       "      <td>CONAN DUNLAP</td>\n",
       "      <td>GENERAL MANAGER</td>\n",
       "      <td>661-797-6500</td>\n",
       "      <td>NaN</td>\n",
       "      <td>26</td>\n",
       "      <td>Unknown</td>\n",
       "      <td>NaN</td>\n",
       "      <td>Private</td>\n",
       "      <td>Surface Water</td>\n",
       "      <td>1.0</td>\n",
       "      <td>0</td>\n",
       "      <td>0</td>\n",
       "      <td>1</td>\n",
       "      <td>0</td>\n",
       "      <td></td>\n",
       "    </tr>\n",
       "  </tbody>\n",
       "</table>\n",
       "</div>"
      ],
      "text/plain": [
       "     water_system_id                             PWS_NAME  CONTACT_NAME  \\\n",
       "2189        CA371053  DHS BORDER PATROL HWY 94 CHECKPOINT  WILLIAM DANA   \n",
       "2192        CA371052     DHS BORDER PATROL I-8 CHECKPOINT  WILLIAM DANA   \n",
       "5409            CA33            PARAMOUNT FARMS-FIREBAUGH  CONAN DUNLAP   \n",
       "\n",
       "                    TITLE   BUSINESS_PHONE LOCATION_ADDRESS  POPULATION  \\\n",
       "2189  HEALTH SAFE OFFICER  619-216-4049                 NaN           0   \n",
       "2192  HEALTH SAFE OFFICER  619-216-4049                 NaN           0   \n",
       "5409      GENERAL MANAGER  661-797-6500                 NaN          26   \n",
       "\n",
       "         TYPE AREA OWNERSHIP         SOURCE  CONNECTIONS  WELLS  PLANTS  \\\n",
       "2189  Unknown  NaN   Unknown        Unknown          NaN      0       0   \n",
       "2192  Unknown  NaN   Unknown        Unknown          NaN      0       0   \n",
       "5409  Unknown  NaN   Private  Surface Water          1.0      0       0   \n",
       "\n",
       "      INTAKES  INTERTIES COUNTY  \n",
       "2189        0          0         \n",
       "2192        0          0         \n",
       "5409        1          0         "
      ]
     },
     "execution_count": 113,
     "metadata": {},
     "output_type": "execute_result"
    }
   ],
   "source": [
    "sdwis[sdwis.water_system_id.str.len() != 9]"
   ]
  },
  {
   "cell_type": "code",
   "execution_count": 114,
   "metadata": {},
   "outputs": [
    {
     "data": {
      "text/plain": [
       "0"
      ]
     },
     "execution_count": 114,
     "metadata": {},
     "output_type": "execute_result"
    }
   ],
   "source": [
    "sdwis.water_system_id.isnull().sum()"
   ]
  },
  {
   "cell_type": "code",
   "execution_count": 93,
   "metadata": {},
   "outputs": [
    {
     "data": {
      "text/html": [
       "<div>\n",
       "<style scoped>\n",
       "    .dataframe tbody tr th:only-of-type {\n",
       "        vertical-align: middle;\n",
       "    }\n",
       "\n",
       "    .dataframe tbody tr th {\n",
       "        vertical-align: top;\n",
       "    }\n",
       "\n",
       "    .dataframe thead th {\n",
       "        text-align: right;\n",
       "    }\n",
       "</style>\n",
       "<table border=\"1\" class=\"dataframe\">\n",
       "  <thead>\n",
       "    <tr style=\"text-align: right;\">\n",
       "      <th></th>\n",
       "      <th>water_system_id</th>\n",
       "      <th>PWS_NAME</th>\n",
       "      <th>CONTACT_NAME</th>\n",
       "      <th>TITLE</th>\n",
       "      <th>BUSINESS_PHONE</th>\n",
       "      <th>LOCATION_ADDRESS</th>\n",
       "      <th>POPULATION</th>\n",
       "      <th>TYPE</th>\n",
       "      <th>AREA</th>\n",
       "      <th>OWNERSHIP</th>\n",
       "      <th>SOURCE</th>\n",
       "      <th>CONNECTIONS</th>\n",
       "      <th>WELLS</th>\n",
       "      <th>PLANTS</th>\n",
       "      <th>INTAKES</th>\n",
       "      <th>INTERTIES</th>\n",
       "      <th>COUNTY</th>\n",
       "    </tr>\n",
       "  </thead>\n",
       "  <tbody>\n",
       "    <tr>\n",
       "      <th>0</th>\n",
       "      <td>CA1900045</td>\n",
       "      <td>1000 TRAILS / SOLEDAD CANYON PRESERVE</td>\n",
       "      <td>CATHY FIORE</td>\n",
       "      <td></td>\n",
       "      <td>NaN</td>\n",
       "      <td>NaN</td>\n",
       "      <td>182</td>\n",
       "      <td>Non-Community (Transient)</td>\n",
       "      <td>Other Transient Area</td>\n",
       "      <td>Private</td>\n",
       "      <td>Groundwater</td>\n",
       "      <td>200.0</td>\n",
       "      <td>3</td>\n",
       "      <td>2</td>\n",
       "      <td>0</td>\n",
       "      <td>0</td>\n",
       "      <td>Los Angeles</td>\n",
       "    </tr>\n",
       "    <tr>\n",
       "      <th>1</th>\n",
       "      <td>CA2800014</td>\n",
       "      <td>11:11</td>\n",
       "      <td>AURELIEN ROULIN</td>\n",
       "      <td>OWNER</td>\n",
       "      <td>310-614-3493</td>\n",
       "      <td>NaN</td>\n",
       "      <td>25</td>\n",
       "      <td>Non-Community (Transient)</td>\n",
       "      <td>Other Area</td>\n",
       "      <td>Private</td>\n",
       "      <td>Groundwater</td>\n",
       "      <td>1.0</td>\n",
       "      <td>1</td>\n",
       "      <td>1</td>\n",
       "      <td>0</td>\n",
       "      <td>0</td>\n",
       "      <td>Napa</td>\n",
       "    </tr>\n",
       "    <tr>\n",
       "      <th>2</th>\n",
       "      <td>CA4000725</td>\n",
       "      <td>141 SUBURBAN ROAD WATER SUPPLY</td>\n",
       "      <td>HEATHER  WILDHARBER</td>\n",
       "      <td></td>\n",
       "      <td>805-544-4300</td>\n",
       "      <td>SAN LUIS OBISPO CA 93401</td>\n",
       "      <td>25</td>\n",
       "      <td>Non-Transient Non-Community</td>\n",
       "      <td>Industrial/Agricultural</td>\n",
       "      <td>Private</td>\n",
       "      <td>Groundwater</td>\n",
       "      <td>1.0</td>\n",
       "      <td>1</td>\n",
       "      <td>0</td>\n",
       "      <td>0</td>\n",
       "      <td>0</td>\n",
       "      <td>San Luis Obispo</td>\n",
       "    </tr>\n",
       "    <tr>\n",
       "      <th>3</th>\n",
       "      <td>CA4000717</td>\n",
       "      <td>200 SUBURBAN ROAD WATER SUPPLY</td>\n",
       "      <td>HEATHER  WILDHARBER</td>\n",
       "      <td></td>\n",
       "      <td>NaN</td>\n",
       "      <td>SAN LUIS OBISPO CA 93401</td>\n",
       "      <td>25</td>\n",
       "      <td>Non-Transient Non-Community</td>\n",
       "      <td>Industrial/Agricultural</td>\n",
       "      <td>Private</td>\n",
       "      <td>Groundwater</td>\n",
       "      <td>1.0</td>\n",
       "      <td>1</td>\n",
       "      <td>0</td>\n",
       "      <td>0</td>\n",
       "      <td>0</td>\n",
       "      <td>San Luis Obispo</td>\n",
       "    </tr>\n",
       "    <tr>\n",
       "      <th>4</th>\n",
       "      <td>CA1909015</td>\n",
       "      <td>21ST CENTURY HOLINESS TABERNACLE CHURCH</td>\n",
       "      <td>ANGELA MORALES</td>\n",
       "      <td></td>\n",
       "      <td>NaN</td>\n",
       "      <td>13136 SIERRA HIGHWAYAGUA DULCE CA 91390</td>\n",
       "      <td>110</td>\n",
       "      <td>Non-Community (Transient)</td>\n",
       "      <td>Other Transient Area</td>\n",
       "      <td>Private</td>\n",
       "      <td>Groundwater</td>\n",
       "      <td>1.0</td>\n",
       "      <td>1</td>\n",
       "      <td>1</td>\n",
       "      <td>0</td>\n",
       "      <td>0</td>\n",
       "      <td>Los Angeles</td>\n",
       "    </tr>\n",
       "  </tbody>\n",
       "</table>\n",
       "</div>"
      ],
      "text/plain": [
       "  water_system_id                                 PWS_NAME  \\\n",
       "0       CA1900045    1000 TRAILS / SOLEDAD CANYON PRESERVE   \n",
       "1       CA2800014                                    11:11   \n",
       "2       CA4000725           141 SUBURBAN ROAD WATER SUPPLY   \n",
       "3       CA4000717           200 SUBURBAN ROAD WATER SUPPLY   \n",
       "4       CA1909015  21ST CENTURY HOLINESS TABERNACLE CHURCH   \n",
       "\n",
       "          CONTACT_NAME  TITLE   BUSINESS_PHONE  \\\n",
       "0          CATHY FIORE                     NaN   \n",
       "1      AURELIEN ROULIN  OWNER  310-614-3493      \n",
       "2  HEATHER  WILDHARBER         805-544-4300      \n",
       "3  HEATHER  WILDHARBER                     NaN   \n",
       "4       ANGELA MORALES                     NaN   \n",
       "\n",
       "                          LOCATION_ADDRESS  POPULATION  \\\n",
       "0                                      NaN         182   \n",
       "1                                      NaN          25   \n",
       "2                 SAN LUIS OBISPO CA 93401          25   \n",
       "3                 SAN LUIS OBISPO CA 93401          25   \n",
       "4  13136 SIERRA HIGHWAYAGUA DULCE CA 91390         110   \n",
       "\n",
       "                          TYPE                            AREA OWNERSHIP  \\\n",
       "0    Non-Community (Transient)  Other Transient Area             Private   \n",
       "1    Non-Community (Transient)  Other Area                       Private   \n",
       "2  Non-Transient Non-Community  Industrial/Agricultural          Private   \n",
       "3  Non-Transient Non-Community  Industrial/Agricultural          Private   \n",
       "4    Non-Community (Transient)  Other Transient Area             Private   \n",
       "\n",
       "        SOURCE  CONNECTIONS  WELLS  PLANTS  INTAKES  INTERTIES  \\\n",
       "0  Groundwater        200.0      3       2        0          0   \n",
       "1  Groundwater          1.0      1       1        0          0   \n",
       "2  Groundwater          1.0      1       0        0          0   \n",
       "3  Groundwater          1.0      1       0        0          0   \n",
       "4  Groundwater          1.0      1       1        0          0   \n",
       "\n",
       "            COUNTY  \n",
       "0      Los Angeles  \n",
       "1             Napa  \n",
       "2  San Luis Obispo  \n",
       "3  San Luis Obispo  \n",
       "4      Los Angeles  "
      ]
     },
     "execution_count": 93,
     "metadata": {},
     "output_type": "execute_result"
    }
   ],
   "source": [
    "sdwis.head()"
   ]
  },
  {
   "cell_type": "code",
   "execution_count": 95,
   "metadata": {},
   "outputs": [],
   "source": [
    "missing = set(wb.water_system_id.dropna()) - set(sdwis.water_system_id.dropna())"
   ]
  },
  {
   "cell_type": "code",
   "execution_count": 101,
   "metadata": {},
   "outputs": [
    {
     "data": {
      "text/plain": [
       "['CA5200600',\n",
       " 'CA4500247',\n",
       " 'CA1503684',\n",
       " 'CA0900673',\n",
       " 'CA5403212',\n",
       " 'CA4301013',\n",
       " 'CA5403213',\n",
       " 'CA4100522',\n",
       " 'CA3200215',\n",
       " 'CA4200924',\n",
       " 'CA3107342',\n",
       " 'CA2400344',\n",
       " 'CA4901445',\n",
       " 'CA1100104',\n",
       " 'CA5602406',\n",
       " 'CA1504010',\n",
       " 'CA5602408']"
      ]
     },
     "execution_count": 101,
     "metadata": {},
     "output_type": "execute_result"
    }
   ],
   "source": [
    "list(missing)"
   ]
  },
  {
   "cell_type": "code",
   "execution_count": 104,
   "metadata": {},
   "outputs": [],
   "source": [
    "s = sdwis[sdwis.water_system_id.str.contains('CA5200600')]"
   ]
  },
  {
   "cell_type": "code",
   "execution_count": null,
   "metadata": {},
   "outputs": [],
   "source": []
  },
  {
   "cell_type": "code",
   "execution_count": null,
   "metadata": {},
   "outputs": [],
   "source": []
  },
  {
   "cell_type": "code",
   "execution_count": null,
   "metadata": {},
   "outputs": [],
   "source": []
  },
  {
   "cell_type": "markdown",
   "metadata": {},
   "source": [
    "[DDW]: ? GAMA Domestic Wells ddw\n",
    "[DPR]:  DPR pesticides\n",
    "[DWR]:  DWR Groundwater basins throughout Northern California are monitored to determine water quality and related factors affecting beneficial uses\n",
    "[GAMA DOMESTIC]: gama_statewide\n",
    "[LLNL]: GAMA (LLNL) llnl_statewide\n",
    "[USGS]: GAMA (USGS) usgs_statewide\n",
    "Depth-to-Water and Groundwater Elevation Data: dtw\n",
    "UC Davis Nitrate Data: ucdnitrate"
   ]
  },
  {
   "cell_type": "code",
   "execution_count": 10,
   "metadata": {},
   "outputs": [],
   "source": [
    "def summary(dataframe):\n",
    "    for column in dataframe:\n",
    "        unique = dataframe[column].unique()\n",
    "        print(column, len(unique))\n",
    "        if len(unique) < 5:\n",
    "            print(unique)"
   ]
  },
  {
   "cell_type": "code",
   "execution_count": 20,
   "metadata": {},
   "outputs": [],
   "source": [
    "df = pd.read_csv('/home/robert/data/ca-water-challenge/gama_ddw_statewide.txt', delimiter='\\t',\n",
    "                 nrows=1000)"
   ]
  },
  {
   "cell_type": "code",
   "execution_count": 21,
   "metadata": {},
   "outputs": [
    {
     "data": {
      "text/html": [
       "<div>\n",
       "<style scoped>\n",
       "    .dataframe tbody tr th:only-of-type {\n",
       "        vertical-align: middle;\n",
       "    }\n",
       "\n",
       "    .dataframe tbody tr th {\n",
       "        vertical-align: top;\n",
       "    }\n",
       "\n",
       "    .dataframe thead th {\n",
       "        text-align: right;\n",
       "    }\n",
       "</style>\n",
       "<table border=\"1\" class=\"dataframe\">\n",
       "  <thead>\n",
       "    <tr style=\"text-align: right;\">\n",
       "      <th></th>\n",
       "      <th>WELL ID</th>\n",
       "      <th>WELL NAME</th>\n",
       "      <th>APPROXIMATE LATITUDE</th>\n",
       "      <th>APPROXIMATE LONGITUDE</th>\n",
       "      <th>CHEMICAL</th>\n",
       "      <th>QUALIFIER</th>\n",
       "      <th>RESULT</th>\n",
       "      <th>UNITS</th>\n",
       "      <th>DATE</th>\n",
       "      <th>DATASET_CAT</th>\n",
       "      <th>DATASET</th>\n",
       "      <th>COUNTY</th>\n",
       "      <th>RB</th>\n",
       "      <th>GW_BASIN_NAME</th>\n",
       "      <th>ASSEMBLY</th>\n",
       "      <th>SENATE</th>\n",
       "    </tr>\n",
       "  </thead>\n",
       "  <tbody>\n",
       "    <tr>\n",
       "      <th>0</th>\n",
       "      <td>W0600103041</td>\n",
       "      <td>0103041-001</td>\n",
       "      <td>37.726859</td>\n",
       "      <td>-122.157248</td>\n",
       "      <td>NO2</td>\n",
       "      <td>&lt;</td>\n",
       "      <td>0.00000</td>\n",
       "      <td>MG/L</td>\n",
       "      <td>11/14/2012</td>\n",
       "      <td>DDW</td>\n",
       "      <td>DDW</td>\n",
       "      <td>ALAMEDA</td>\n",
       "      <td>2</td>\n",
       "      <td>SANTA CLARA VALLEY - EAST BAY PLAIN (2-009.04)</td>\n",
       "      <td>18</td>\n",
       "      <td>9</td>\n",
       "    </tr>\n",
       "    <tr>\n",
       "      <th>1</th>\n",
       "      <td>W0600103041</td>\n",
       "      <td>0103041-001</td>\n",
       "      <td>37.726859</td>\n",
       "      <td>-122.157248</td>\n",
       "      <td>NO3N</td>\n",
       "      <td>NaN</td>\n",
       "      <td>4.29210</td>\n",
       "      <td>MG/L</td>\n",
       "      <td>11/14/2012</td>\n",
       "      <td>DDW</td>\n",
       "      <td>DDW</td>\n",
       "      <td>ALAMEDA</td>\n",
       "      <td>2</td>\n",
       "      <td>SANTA CLARA VALLEY - EAST BAY PLAIN (2-009.04)</td>\n",
       "      <td>18</td>\n",
       "      <td>9</td>\n",
       "    </tr>\n",
       "    <tr>\n",
       "      <th>2</th>\n",
       "      <td>W0600103041</td>\n",
       "      <td>0103041-001</td>\n",
       "      <td>37.726859</td>\n",
       "      <td>-122.157248</td>\n",
       "      <td>NO2</td>\n",
       "      <td>&lt;</td>\n",
       "      <td>0.00000</td>\n",
       "      <td>MG/L</td>\n",
       "      <td>12/18/2013</td>\n",
       "      <td>DDW</td>\n",
       "      <td>DDW</td>\n",
       "      <td>ALAMEDA</td>\n",
       "      <td>2</td>\n",
       "      <td>SANTA CLARA VALLEY - EAST BAY PLAIN (2-009.04)</td>\n",
       "      <td>18</td>\n",
       "      <td>9</td>\n",
       "    </tr>\n",
       "    <tr>\n",
       "      <th>3</th>\n",
       "      <td>W0600103041</td>\n",
       "      <td>0103041-001</td>\n",
       "      <td>37.726859</td>\n",
       "      <td>-122.157248</td>\n",
       "      <td>ALPHA</td>\n",
       "      <td>&lt;</td>\n",
       "      <td>0.00000</td>\n",
       "      <td>pCi/L</td>\n",
       "      <td>12/18/2013</td>\n",
       "      <td>DDW</td>\n",
       "      <td>DDW</td>\n",
       "      <td>ALAMEDA</td>\n",
       "      <td>2</td>\n",
       "      <td>SANTA CLARA VALLEY - EAST BAY PLAIN (2-009.04)</td>\n",
       "      <td>18</td>\n",
       "      <td>9</td>\n",
       "    </tr>\n",
       "    <tr>\n",
       "      <th>4</th>\n",
       "      <td>W0600103041</td>\n",
       "      <td>0103041-001</td>\n",
       "      <td>37.726859</td>\n",
       "      <td>-122.157248</td>\n",
       "      <td>NO3N</td>\n",
       "      <td>NaN</td>\n",
       "      <td>2.21382</td>\n",
       "      <td>MG/L</td>\n",
       "      <td>12/18/2013</td>\n",
       "      <td>DDW</td>\n",
       "      <td>DDW</td>\n",
       "      <td>ALAMEDA</td>\n",
       "      <td>2</td>\n",
       "      <td>SANTA CLARA VALLEY - EAST BAY PLAIN (2-009.04)</td>\n",
       "      <td>18</td>\n",
       "      <td>9</td>\n",
       "    </tr>\n",
       "  </tbody>\n",
       "</table>\n",
       "</div>"
      ],
      "text/plain": [
       "       WELL ID    WELL NAME  APPROXIMATE LATITUDE  APPROXIMATE LONGITUDE  \\\n",
       "0  W0600103041  0103041-001             37.726859            -122.157248   \n",
       "1  W0600103041  0103041-001             37.726859            -122.157248   \n",
       "2  W0600103041  0103041-001             37.726859            -122.157248   \n",
       "3  W0600103041  0103041-001             37.726859            -122.157248   \n",
       "4  W0600103041  0103041-001             37.726859            -122.157248   \n",
       "\n",
       "  CHEMICAL QUALIFIER   RESULT  UNITS        DATE DATASET_CAT DATASET   COUNTY  \\\n",
       "0      NO2         <  0.00000   MG/L  11/14/2012         DDW     DDW  ALAMEDA   \n",
       "1     NO3N       NaN  4.29210   MG/L  11/14/2012         DDW     DDW  ALAMEDA   \n",
       "2      NO2         <  0.00000   MG/L  12/18/2013         DDW     DDW  ALAMEDA   \n",
       "3    ALPHA         <  0.00000  pCi/L  12/18/2013         DDW     DDW  ALAMEDA   \n",
       "4     NO3N       NaN  2.21382   MG/L  12/18/2013         DDW     DDW  ALAMEDA   \n",
       "\n",
       "   RB                                   GW_BASIN_NAME  ASSEMBLY  SENATE  \n",
       "0   2  SANTA CLARA VALLEY - EAST BAY PLAIN (2-009.04)        18       9  \n",
       "1   2  SANTA CLARA VALLEY - EAST BAY PLAIN (2-009.04)        18       9  \n",
       "2   2  SANTA CLARA VALLEY - EAST BAY PLAIN (2-009.04)        18       9  \n",
       "3   2  SANTA CLARA VALLEY - EAST BAY PLAIN (2-009.04)        18       9  \n",
       "4   2  SANTA CLARA VALLEY - EAST BAY PLAIN (2-009.04)        18       9  "
      ]
     },
     "execution_count": 21,
     "metadata": {},
     "output_type": "execute_result"
    }
   ],
   "source": [
    "df.head()"
   ]
  },
  {
   "cell_type": "code",
   "execution_count": 22,
   "metadata": {},
   "outputs": [
    {
     "name": "stdout",
     "output_type": "stream",
     "text": [
      "WELL ID 11\n",
      "WELL NAME 14\n",
      "APPROXIMATE LATITUDE 7\n",
      "APPROXIMATE LONGITUDE 8\n",
      "CHEMICAL 134\n",
      "QUALIFIER 2\n",
      "['<' nan]\n",
      "RESULT 175\n",
      "UNITS 5\n",
      "DATE 122\n",
      "DATASET_CAT 1\n",
      "['DDW']\n",
      "DATASET 1\n",
      "['DDW']\n",
      "COUNTY 1\n",
      "['ALAMEDA']\n",
      "RB 2\n",
      "[2 5]\n",
      "GW_BASIN_NAME 5\n",
      "ASSEMBLY 4\n",
      "[18 25 20 16]\n",
      "SENATE 3\n",
      "[ 9 10  7]\n"
     ]
    }
   ],
   "source": [
    "summary(df)"
   ]
  },
  {
   "cell_type": "code",
   "execution_count": 20,
   "metadata": {},
   "outputs": [],
   "source": [
    "df = pd.read_csv('/home/robert/data/ca-water-challenge/gama_ddw_statewide.txt', delimiter='\\t',\n",
    "                 nrows=1000)"
   ]
  },
  {
   "cell_type": "code",
   "execution_count": 21,
   "metadata": {},
   "outputs": [
    {
     "data": {
      "text/html": [
       "<div>\n",
       "<style scoped>\n",
       "    .dataframe tbody tr th:only-of-type {\n",
       "        vertical-align: middle;\n",
       "    }\n",
       "\n",
       "    .dataframe tbody tr th {\n",
       "        vertical-align: top;\n",
       "    }\n",
       "\n",
       "    .dataframe thead th {\n",
       "        text-align: right;\n",
       "    }\n",
       "</style>\n",
       "<table border=\"1\" class=\"dataframe\">\n",
       "  <thead>\n",
       "    <tr style=\"text-align: right;\">\n",
       "      <th></th>\n",
       "      <th>WELL ID</th>\n",
       "      <th>WELL NAME</th>\n",
       "      <th>APPROXIMATE LATITUDE</th>\n",
       "      <th>APPROXIMATE LONGITUDE</th>\n",
       "      <th>CHEMICAL</th>\n",
       "      <th>QUALIFIER</th>\n",
       "      <th>RESULT</th>\n",
       "      <th>UNITS</th>\n",
       "      <th>DATE</th>\n",
       "      <th>DATASET_CAT</th>\n",
       "      <th>DATASET</th>\n",
       "      <th>COUNTY</th>\n",
       "      <th>RB</th>\n",
       "      <th>GW_BASIN_NAME</th>\n",
       "      <th>ASSEMBLY</th>\n",
       "      <th>SENATE</th>\n",
       "    </tr>\n",
       "  </thead>\n",
       "  <tbody>\n",
       "    <tr>\n",
       "      <th>0</th>\n",
       "      <td>W0600103041</td>\n",
       "      <td>0103041-001</td>\n",
       "      <td>37.726859</td>\n",
       "      <td>-122.157248</td>\n",
       "      <td>NO2</td>\n",
       "      <td>&lt;</td>\n",
       "      <td>0.00000</td>\n",
       "      <td>MG/L</td>\n",
       "      <td>11/14/2012</td>\n",
       "      <td>DDW</td>\n",
       "      <td>DDW</td>\n",
       "      <td>ALAMEDA</td>\n",
       "      <td>2</td>\n",
       "      <td>SANTA CLARA VALLEY - EAST BAY PLAIN (2-009.04)</td>\n",
       "      <td>18</td>\n",
       "      <td>9</td>\n",
       "    </tr>\n",
       "    <tr>\n",
       "      <th>1</th>\n",
       "      <td>W0600103041</td>\n",
       "      <td>0103041-001</td>\n",
       "      <td>37.726859</td>\n",
       "      <td>-122.157248</td>\n",
       "      <td>NO3N</td>\n",
       "      <td>NaN</td>\n",
       "      <td>4.29210</td>\n",
       "      <td>MG/L</td>\n",
       "      <td>11/14/2012</td>\n",
       "      <td>DDW</td>\n",
       "      <td>DDW</td>\n",
       "      <td>ALAMEDA</td>\n",
       "      <td>2</td>\n",
       "      <td>SANTA CLARA VALLEY - EAST BAY PLAIN (2-009.04)</td>\n",
       "      <td>18</td>\n",
       "      <td>9</td>\n",
       "    </tr>\n",
       "    <tr>\n",
       "      <th>2</th>\n",
       "      <td>W0600103041</td>\n",
       "      <td>0103041-001</td>\n",
       "      <td>37.726859</td>\n",
       "      <td>-122.157248</td>\n",
       "      <td>NO2</td>\n",
       "      <td>&lt;</td>\n",
       "      <td>0.00000</td>\n",
       "      <td>MG/L</td>\n",
       "      <td>12/18/2013</td>\n",
       "      <td>DDW</td>\n",
       "      <td>DDW</td>\n",
       "      <td>ALAMEDA</td>\n",
       "      <td>2</td>\n",
       "      <td>SANTA CLARA VALLEY - EAST BAY PLAIN (2-009.04)</td>\n",
       "      <td>18</td>\n",
       "      <td>9</td>\n",
       "    </tr>\n",
       "    <tr>\n",
       "      <th>3</th>\n",
       "      <td>W0600103041</td>\n",
       "      <td>0103041-001</td>\n",
       "      <td>37.726859</td>\n",
       "      <td>-122.157248</td>\n",
       "      <td>ALPHA</td>\n",
       "      <td>&lt;</td>\n",
       "      <td>0.00000</td>\n",
       "      <td>pCi/L</td>\n",
       "      <td>12/18/2013</td>\n",
       "      <td>DDW</td>\n",
       "      <td>DDW</td>\n",
       "      <td>ALAMEDA</td>\n",
       "      <td>2</td>\n",
       "      <td>SANTA CLARA VALLEY - EAST BAY PLAIN (2-009.04)</td>\n",
       "      <td>18</td>\n",
       "      <td>9</td>\n",
       "    </tr>\n",
       "    <tr>\n",
       "      <th>4</th>\n",
       "      <td>W0600103041</td>\n",
       "      <td>0103041-001</td>\n",
       "      <td>37.726859</td>\n",
       "      <td>-122.157248</td>\n",
       "      <td>NO3N</td>\n",
       "      <td>NaN</td>\n",
       "      <td>2.21382</td>\n",
       "      <td>MG/L</td>\n",
       "      <td>12/18/2013</td>\n",
       "      <td>DDW</td>\n",
       "      <td>DDW</td>\n",
       "      <td>ALAMEDA</td>\n",
       "      <td>2</td>\n",
       "      <td>SANTA CLARA VALLEY - EAST BAY PLAIN (2-009.04)</td>\n",
       "      <td>18</td>\n",
       "      <td>9</td>\n",
       "    </tr>\n",
       "  </tbody>\n",
       "</table>\n",
       "</div>"
      ],
      "text/plain": [
       "       WELL ID    WELL NAME  APPROXIMATE LATITUDE  APPROXIMATE LONGITUDE  \\\n",
       "0  W0600103041  0103041-001             37.726859            -122.157248   \n",
       "1  W0600103041  0103041-001             37.726859            -122.157248   \n",
       "2  W0600103041  0103041-001             37.726859            -122.157248   \n",
       "3  W0600103041  0103041-001             37.726859            -122.157248   \n",
       "4  W0600103041  0103041-001             37.726859            -122.157248   \n",
       "\n",
       "  CHEMICAL QUALIFIER   RESULT  UNITS        DATE DATASET_CAT DATASET   COUNTY  \\\n",
       "0      NO2         <  0.00000   MG/L  11/14/2012         DDW     DDW  ALAMEDA   \n",
       "1     NO3N       NaN  4.29210   MG/L  11/14/2012         DDW     DDW  ALAMEDA   \n",
       "2      NO2         <  0.00000   MG/L  12/18/2013         DDW     DDW  ALAMEDA   \n",
       "3    ALPHA         <  0.00000  pCi/L  12/18/2013         DDW     DDW  ALAMEDA   \n",
       "4     NO3N       NaN  2.21382   MG/L  12/18/2013         DDW     DDW  ALAMEDA   \n",
       "\n",
       "   RB                                   GW_BASIN_NAME  ASSEMBLY  SENATE  \n",
       "0   2  SANTA CLARA VALLEY - EAST BAY PLAIN (2-009.04)        18       9  \n",
       "1   2  SANTA CLARA VALLEY - EAST BAY PLAIN (2-009.04)        18       9  \n",
       "2   2  SANTA CLARA VALLEY - EAST BAY PLAIN (2-009.04)        18       9  \n",
       "3   2  SANTA CLARA VALLEY - EAST BAY PLAIN (2-009.04)        18       9  \n",
       "4   2  SANTA CLARA VALLEY - EAST BAY PLAIN (2-009.04)        18       9  "
      ]
     },
     "execution_count": 21,
     "metadata": {},
     "output_type": "execute_result"
    }
   ],
   "source": [
    "df.head()"
   ]
  },
  {
   "cell_type": "code",
   "execution_count": 22,
   "metadata": {},
   "outputs": [
    {
     "name": "stdout",
     "output_type": "stream",
     "text": [
      "WELL ID 11\n",
      "WELL NAME 14\n",
      "APPROXIMATE LATITUDE 7\n",
      "APPROXIMATE LONGITUDE 8\n",
      "CHEMICAL 134\n",
      "QUALIFIER 2\n",
      "['<' nan]\n",
      "RESULT 175\n",
      "UNITS 5\n",
      "DATE 122\n",
      "DATASET_CAT 1\n",
      "['DDW']\n",
      "DATASET 1\n",
      "['DDW']\n",
      "COUNTY 1\n",
      "['ALAMEDA']\n",
      "RB 2\n",
      "[2 5]\n",
      "GW_BASIN_NAME 5\n",
      "ASSEMBLY 4\n",
      "[18 25 20 16]\n",
      "SENATE 3\n",
      "[ 9 10  7]\n"
     ]
    }
   ],
   "source": [
    "summary(df)"
   ]
  },
  {
   "cell_type": "code",
   "execution_count": 4,
   "metadata": {},
   "outputs": [],
   "source": [
    "df = pd.read_csv('/home/robert/data/ca-water-challenge/gama_all_dtw_elev.txt', delimiter='\\t')"
   ]
  },
  {
   "cell_type": "code",
   "execution_count": 9,
   "metadata": {},
   "outputs": [
    {
     "data": {
      "text/html": [
       "<div>\n",
       "<style scoped>\n",
       "    .dataframe tbody tr th:only-of-type {\n",
       "        vertical-align: middle;\n",
       "    }\n",
       "\n",
       "    .dataframe tbody tr th {\n",
       "        vertical-align: top;\n",
       "    }\n",
       "\n",
       "    .dataframe thead th {\n",
       "        text-align: right;\n",
       "    }\n",
       "</style>\n",
       "<table border=\"1\" class=\"dataframe\">\n",
       "  <thead>\n",
       "    <tr style=\"text-align: right;\">\n",
       "      <th></th>\n",
       "      <th>SOURCE</th>\n",
       "      <th>WELL NUMBER</th>\n",
       "      <th>MEASUREMENT DATE</th>\n",
       "      <th>DEPTH TO WATER</th>\n",
       "      <th>GW ELEVATION</th>\n",
       "      <th>LATITUDE</th>\n",
       "      <th>LONGITUDE</th>\n",
       "    </tr>\n",
       "  </thead>\n",
       "  <tbody>\n",
       "    <tr>\n",
       "      <th>0</th>\n",
       "      <td>DWR Well</td>\n",
       "      <td>17S11E22E002S</td>\n",
       "      <td>10/19/1993</td>\n",
       "      <td>100.52</td>\n",
       "      <td>205.82</td>\n",
       "      <td>32.6596</td>\n",
       "      <td>-115.848</td>\n",
       "    </tr>\n",
       "    <tr>\n",
       "      <th>1</th>\n",
       "      <td>DWR Well</td>\n",
       "      <td>17S11E22E002S</td>\n",
       "      <td>03/14/1994</td>\n",
       "      <td>100.41</td>\n",
       "      <td>205.93</td>\n",
       "      <td>32.6596</td>\n",
       "      <td>-115.848</td>\n",
       "    </tr>\n",
       "    <tr>\n",
       "      <th>2</th>\n",
       "      <td>DWR Well</td>\n",
       "      <td>17S11E22E002S</td>\n",
       "      <td>10/17/1994</td>\n",
       "      <td>100.43</td>\n",
       "      <td>205.91</td>\n",
       "      <td>32.6596</td>\n",
       "      <td>-115.848</td>\n",
       "    </tr>\n",
       "    <tr>\n",
       "      <th>3</th>\n",
       "      <td>DWR Well</td>\n",
       "      <td>17S11E22E002S</td>\n",
       "      <td>03/29/1995</td>\n",
       "      <td>100.36</td>\n",
       "      <td>205.98</td>\n",
       "      <td>32.6596</td>\n",
       "      <td>-115.848</td>\n",
       "    </tr>\n",
       "    <tr>\n",
       "      <th>4</th>\n",
       "      <td>DWR Well</td>\n",
       "      <td>17S11E22E002S</td>\n",
       "      <td>10/16/1995</td>\n",
       "      <td>100.17</td>\n",
       "      <td>206.17</td>\n",
       "      <td>32.6596</td>\n",
       "      <td>-115.848</td>\n",
       "    </tr>\n",
       "  </tbody>\n",
       "</table>\n",
       "</div>"
      ],
      "text/plain": [
       "     SOURCE    WELL NUMBER MEASUREMENT DATE  DEPTH TO WATER  GW ELEVATION  \\\n",
       "0  DWR Well  17S11E22E002S       10/19/1993          100.52        205.82   \n",
       "1  DWR Well  17S11E22E002S       03/14/1994          100.41        205.93   \n",
       "2  DWR Well  17S11E22E002S       10/17/1994          100.43        205.91   \n",
       "3  DWR Well  17S11E22E002S       03/29/1995          100.36        205.98   \n",
       "4  DWR Well  17S11E22E002S       10/16/1995          100.17        206.17   \n",
       "\n",
       "   LATITUDE  LONGITUDE  \n",
       "0   32.6596   -115.848  \n",
       "1   32.6596   -115.848  \n",
       "2   32.6596   -115.848  \n",
       "3   32.6596   -115.848  \n",
       "4   32.6596   -115.848  "
      ]
     },
     "execution_count": 9,
     "metadata": {},
     "output_type": "execute_result"
    }
   ],
   "source": [
    "df.head()"
   ]
  },
  {
   "cell_type": "code",
   "execution_count": 11,
   "metadata": {},
   "outputs": [
    {
     "name": "stdout",
     "output_type": "stream",
     "text": [
      "SOURCE 2\n",
      "['DWR Well' 'Environmental Monitoring Well']\n",
      "WELL NUMBER 153522\n",
      "MEASUREMENT DATE 31807\n",
      "DEPTH TO WATER 78447\n",
      "GW ELEVATION 459819\n",
      "LATITUDE 101965\n",
      "LONGITUDE 106045\n"
     ]
    }
   ],
   "source": [
    "summary(df)"
   ]
  },
  {
   "cell_type": "code",
   "execution_count": null,
   "metadata": {},
   "outputs": [],
   "source": []
  }
 ],
 "metadata": {
  "kernelspec": {
   "display_name": "Python 3",
   "language": "python",
   "name": "python3"
  },
  "language_info": {
   "codemirror_mode": {
    "name": "ipython",
    "version": 3
   },
   "file_extension": ".py",
   "mimetype": "text/x-python",
   "name": "python",
   "nbconvert_exporter": "python",
   "pygments_lexer": "ipython3",
   "version": "3.6.6"
  }
 },
 "nbformat": 4,
 "nbformat_minor": 2
}
